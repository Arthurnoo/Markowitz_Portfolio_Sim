{
 "cells": [
  {
   "cell_type": "markdown",
   "metadata": {},
   "source": [
    "# **Project user guide**\n",
    "### How to use the Markowitz Portfolio Simulator ?"
   ]
  },
  {
   "cell_type": "markdown",
   "metadata": {},
   "source": [
    "## I. Main objectives"
   ]
  },
  {
   "cell_type": "markdown",
   "metadata": {},
   "source": [
    "The **main objective** of this project is to build a **user-friendly and efficient portfolio optimization tool** based on **Markowitz’s Modern Portfolio Theory**.\n",
    "\n",
    "💡 **Why this project?**  \n",
    "This projet acts as a first sight of managing the risk of a portfolio and trying to retrieve the maximum expected return. It then provides :\n",
    "\n",
    "✅ **An intuitive Streamlit interface** to input investment preferences  \n",
    "✅ **Automated portfolio optimization** using different strategies  \n",
    "✅ **Clear visualizations** to help users interpret results  \n",
    "\n",
    "---\n",
    "❓ **What is the Markowitz model ?**\n",
    "The **Markowitz Model** (1952) is a **quantitative framework** that seeks to construct an **optimal portfolio** by maximizing expected return for a given level of risk (variance). The key idea is **diversification**, where combining assets with different return patterns can **reduce overall portfolio risk**.\n",
    "\n",
    "We are trying to find the best compromise between return and risk :\n",
    "- The expected return is calculated as a weighted average of the returns on each asset, according to their weight in the portfolio.\n",
    "- Risk is measured by portfolio volatility, which depends not only on the volatility of individual assets, but also on how they move together (correlations).\n",
    "- The aim is to maximise return while minimising risk, often by optimising the Sharpe ratio, which compares risk-adjusted return.\n",
    "- To ensure that the portfolio is realistic, constraints are imposed, such as a total investment of 100% and limits on the allocation of each asset.\n",
    "\n",
    "\n",
    "🔑 **Key Assumptions of the Markowitz Model**\n",
    "1️⃣ **Investors are rational and risk-averse**  \n",
    "   → They prefer **higher returns** for the **same risk** and **lower risk** for the **same return**.  \n",
    "\n",
    "2️⃣ **Asset returns follow a normal distribution**  \n",
    "   → Implies that **mean and variance** fully describe the return distribution.  \n",
    "\n",
    "3️⃣ **No transaction costs or taxes**  \n",
    "   → Assumes a **frictionless market** where buying and selling are costless.  \n",
    "\n",
    "4️⃣ **Investors base decisions only on expected return and risk (variance)**  \n",
    "   → They ignore higher moments like **skewness** and **kurtosis**.  \n",
    "\n",
    "5️⃣ **Historical data is representative of future returns**  \n",
    "   → Assumes **past trends persist** into the future.  \n",
    "\n",
    "---\n",
    "❌ **Limitations of the Model**\n",
    "**1. Sensitivity to input parameters**  \n",
    "   - Small changes in **expected returns or covariances** can lead to very different portfolios.  \n",
    "\n",
    "**2. Normal distribution assumption**  \n",
    "   - Financial returns **often exhibit skewness and fat tails**, making variance a **poor risk measure** in extreme market conditions.  \n",
    "\n",
    "**3. Ignores liquidity and market impact**  \n",
    "   - The model **does not consider trading costs** or **the ability to execute large trades without impacting prices**.  \n",
    "\n",
    "**4. Risk is defined only as variance**  \n",
    "   - Variance includes both **upside and downside risk**, while investors mainly care about **drawdowns**.  \n",
    "\n",
    "**5. Unrealistic assumptions**  \n",
    "   - The **no transaction costs** assumption is not applicable to real-world investing.  \n",
    "\n",
    "---\n",
    "📌 **Conclusion**  \n",
    "While the Markowitz Model has limitations, it remains **one of the most fundamental tools** in **portfolio management**. By implementing **realistic constraints, multiple optimization objectives, and a user-friendly interface**, this project makes **quantitative portfolio construction** accessible to all investors.\n"
   ]
  },
  {
   "cell_type": "markdown",
   "metadata": {},
   "source": [
    "## II. Explanation of the different parts"
   ]
  },
  {
   "cell_type": "markdown",
   "metadata": {},
   "source": [
    "The project is structured in several parts:\n",
    "\n",
    "The `data/` folder contains everything to do with retrieving tickers and interacting with the user via the Streamlit interface. This is where the responses are recorded before being used for optimisation.\n",
    "\n",
    "The main processes are stored in the `main/` folder: `statistics.py` calculates asset returns, volatilities and correlations, while `portfolio_optimizer.py` uses this data to optimise the portfolio allocation according to the constraints defined. The results are then stored in `optimized_portfolio.pkl`.\n",
    "\n",
    "The `tests` folder is used to validate the correct operation of the project using several test scenarios (5, 10 and 20 assets). `run_tests`.py automates the execution of these tests to ensure that the optimisation works correctly.\n",
    "\n",
    "Finally, the `portfolio_optimizer_tutorial.ipynb` file serves as an interactive step-by-step guide to using the project. The **README.md** describes the entire project, while `requirements.txt` lists the dependencies required to run it."
   ]
  },
  {
   "cell_type": "markdown",
   "metadata": {},
   "source": [
    "## III. Question Interface"
   ]
  },
  {
   "cell_type": "markdown",
   "metadata": {},
   "source": []
  },
  {
   "cell_type": "markdown",
   "metadata": {},
   "source": [
    "## IV. Statistics code"
   ]
  },
  {
   "cell_type": "markdown",
   "metadata": {},
   "source": [
    "## V. Portfolio_Optimizer code"
   ]
  },
  {
   "cell_type": "markdown",
   "metadata": {},
   "source": [
    "## VI. Answer interface"
   ]
  },
  {
   "cell_type": "markdown",
   "metadata": {},
   "source": [
    "## VII. Analyse of the 3 strategies"
   ]
  },
  {
   "cell_type": "markdown",
   "metadata": {},
   "source": [
    "## VIII. The limits"
   ]
  },
  {
   "cell_type": "markdown",
   "metadata": {},
   "source": [
    "## IX. Next steps ?"
   ]
  }
 ],
 "metadata": {
  "language_info": {
   "name": "python"
  }
 },
 "nbformat": 4,
 "nbformat_minor": 2
}
