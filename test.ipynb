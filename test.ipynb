{
 "cells": [
  {
   "cell_type": "code",
   "execution_count": 3,
   "metadata": {},
   "outputs": [
    {
     "name": "stderr",
     "output_type": "stream",
     "text": [
      "[*********************100%***********************]  5 of 5 completed"
     ]
    },
    {
     "name": "stdout",
     "output_type": "stream",
     "text": [
      "❌ 'Adj Close' est absent du MultiIndex.\n"
     ]
    },
    {
     "name": "stderr",
     "output_type": "stream",
     "text": [
      "\n"
     ]
    }
   ],
   "source": [
    "import yfinance as yf\n",
    "import pandas as pd\n",
    "\n",
    "# Liste des tickers\n",
    "tickers = [\"AAPL\", \"GOOGL\", \"AMZN\", \"NVDA\", \"MSFT\"]\n",
    "\n",
    "# Télécharger les données\n",
    "data = yf.download(tickers, period=\"5y\", interval=\"1d\", group_by=\"ticker\")\n",
    "\n",
    "# Vérifier si 'Adj Close' est présent\n",
    "if \"Adj Close\" in data.columns:\n",
    "    adj_close = data[\"Adj Close\"]\n",
    "    print(\"✅ 'Adj Close' trouvé !\")\n",
    "elif isinstance(data.columns, pd.MultiIndex):\n",
    "    # Extraction depuis un MultiIndex\n",
    "    try:\n",
    "        adj_close = data.xs(\"Adj Close\", level=1, axis=1)\n",
    "        print(\"✅ 'Adj Close' extrait depuis MultiIndex.\")\n",
    "    except KeyError:\n",
    "        print(\"❌ 'Adj Close' est absent du MultiIndex.\")\n",
    "else:\n",
    "    print(\"❌ 'Adj Close' est introuvable. Vérifiez les tickers.\")"
   ]
  }
 ],
 "metadata": {
  "kernelspec": {
   "display_name": "base",
   "language": "python",
   "name": "python3"
  },
  "language_info": {
   "codemirror_mode": {
    "name": "ipython",
    "version": 3
   },
   "file_extension": ".py",
   "mimetype": "text/x-python",
   "name": "python",
   "nbconvert_exporter": "python",
   "pygments_lexer": "ipython3",
   "version": "3.12.7"
  }
 },
 "nbformat": 4,
 "nbformat_minor": 2
}
